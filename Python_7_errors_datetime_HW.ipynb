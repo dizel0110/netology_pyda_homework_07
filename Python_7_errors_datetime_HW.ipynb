{
 "cells": [
  {
   "cell_type": "markdown",
   "metadata": {},
   "source": [
    "Задание 1 и Задание 2 (Задание 2 дополнило Задание 1) Условие на корректность и возврат пустого списка работает, если запустить с некорректными входными данными."
   ]
  },
  {
   "cell_type": "code",
   "execution_count": 6,
   "metadata": {},
   "outputs": [
    {
     "name": "stdout",
     "output_type": "stream",
     "text": [
      "Введите начальную дату в формате YYYY-MM-DD 2020-02-26\n",
      "Введите конечную дату в формате YYYY-MM-DD 2020-03-02\n",
      "26\n",
      "27\n",
      "28\n",
      "29\n",
      "01\n",
      "02\n"
     ]
    },
    {
     "data": {
      "text/plain": [
       "['26', '27', '28', '29', '01', '02']"
      ]
     },
     "execution_count": 6,
     "metadata": {},
     "output_type": "execute_result"
    }
   ],
   "source": [
    "def date_range(start_date, end_date):\n",
    "\n",
    "    vsd = validate(start_date)\n",
    "    ved = validate(end_date)\n",
    "    \n",
    "    if (start_date > end_date):\n",
    "        print('Начальная дата не может быть больше конечной')\n",
    "        return []\n",
    "            \n",
    "    if (not vsd and not ved):\n",
    "        print('Ошибка в форматах и начальной и конечной даты')\n",
    "        return []\n",
    "    elif not vsd:\n",
    "        print('Ошибка в формате начальной даты')\n",
    "        return []\n",
    "    elif not ved:\n",
    "        print('Ошибка в формате конечной даты')\n",
    "        return []\n",
    "         \n",
    "    from datetime import datetime, timedelta\n",
    "       \n",
    "    \n",
    "    start_date_dt = datetime.strptime(start_date, '%Y-%m-%d')\n",
    "    end_date_dt = datetime.strptime(end_date, '%Y-%m-%d')\n",
    "    \n",
    "    days = []\n",
    "    current_dt = start_date_dt\n",
    "    \n",
    "    try:\n",
    "        \n",
    "            while current_dt.strftime('%Y-%m-%d') <= end_date:\n",
    "                day_curr = current_dt.strftime('%d')  \n",
    "                days.append(day_curr)\n",
    "                current_dt += timedelta(days=1)\n",
    "                print(day_curr)   \n",
    "    except:\n",
    "        print('Неизвестная ошибка!')\n",
    "        days = []\n",
    "    finally:\n",
    "        return days\n",
    "\n",
    "\n",
    "    \n",
    "def validate(date_text):\n",
    "    from datetime import datetime\n",
    "    try:\n",
    "        if date_text != datetime.strptime(date_text, \"%Y-%m-%d\").strftime('%Y-%m-%d'):\n",
    "            raise ValueError\n",
    "        return True\n",
    "    except ValueError:\n",
    "        return False    \n",
    "    \n",
    "    \n",
    "\n",
    "start_date = str(input('Введите начальную дату в формате YYYY-MM-DD ')) \n",
    "end_date = str(input('Введите конечную дату в формате YYYY-MM-DD '))\n",
    "\n",
    "date_range(start_date, end_date)"
   ]
  },
  {
   "cell_type": "markdown",
   "metadata": {},
   "source": [
    "Задание 3"
   ]
  },
  {
   "cell_type": "code",
   "execution_count": 2,
   "metadata": {},
   "outputs": [
    {
     "name": "stdout",
     "output_type": "stream",
     "text": [
      "{'2018-04-02': True, '2018-02-29': False, '2018-19-02': False}\n"
     ]
    }
   ],
   "source": [
    "from datetime import datetime\n",
    "\n",
    "stream = ['2018-04-02', '2018-02-29', '2018-19-02']\n",
    "\n",
    "def valstream(stream):\n",
    "    val = {}\n",
    "\n",
    "    for date_text in stream:\n",
    "        val[date_text] = validate(date_text)\n",
    "\n",
    "    print(val)\n",
    "\n",
    "def validate(date_text):\n",
    "    try:\n",
    "        if date_text != datetime.strptime(date_text, \"%Y-%m-%d\").strftime('%Y-%m-%d'):\n",
    "            raise ValueError\n",
    "        return True\n",
    "    except ValueError:\n",
    "        return False\n",
    "    \n",
    "valstream(stream)"
   ]
  },
  {
   "cell_type": "markdown",
   "metadata": {},
   "source": [
    "Задание 4(бонусное)"
   ]
  },
  {
   "cell_type": "markdown",
   "metadata": {},
   "source": [
    "Ответы на бонусную задачу написал после выполнения кода с пояснениями!!!"
   ]
  },
  {
   "cell_type": "markdown",
   "metadata": {},
   "source": [
    "Сначала код, как есть по условию задачи (выполнил один раз):"
   ]
  },
  {
   "cell_type": "code",
   "execution_count": 38,
   "metadata": {},
   "outputs": [
    {
     "data": {
      "text/plain": [
       "'A101'"
      ]
     },
     "execution_count": 38,
     "metadata": {},
     "output_type": "execute_result"
    }
   ],
   "source": [
    "DEFAULT_USER_COUNT = 3\n",
    "def delete_and_return_last_user(region, default_list=['A100', 'A101', 'A102']):\n",
    "    \"\"\"\n",
    "    Удаляет из списка default_list последнего пользователя \n",
    "    и возвращает ID нового последнего пользователя.\n",
    "    \"\"\"\n",
    "    element_to_delete = default_list[-1]\n",
    "    default_list.remove(element_to_delete)\n",
    "    \n",
    "    return default_list[DEFAULT_USER_COUNT-2]\n",
    "# При однократном вызове этой функции все работает корректно:\n",
    "delete_and_return_last_user(1)"
   ]
  },
  {
   "cell_type": "markdown",
   "metadata": {},
   "source": [
    "Теперь добавил несколько вспомогательных строк, чтобы проследить за default_list"
   ]
  },
  {
   "cell_type": "code",
   "execution_count": 2,
   "metadata": {},
   "outputs": [
    {
     "name": "stdout",
     "output_type": "stream",
     "text": [
      "Сразу после иницилизации функции default_list = ['A100', 'A101', 'A102']\n",
      "id =  2282965107656\n",
      "Перед выполнением default_list[DEFAULT_USER_COUNT-2] получаем default_list = ['A100', 'A101']\n",
      "id =  2282965107656\n"
     ]
    },
    {
     "data": {
      "text/plain": [
       "'A101'"
      ]
     },
     "execution_count": 2,
     "metadata": {},
     "output_type": "execute_result"
    }
   ],
   "source": [
    "DEFAULT_USER_COUNT = 3\n",
    "def delete_and_return_last_user(region, default_list=['A100', 'A101', 'A102']):\n",
    "    \"\"\"\n",
    "    Удаляет из списка default_list последнего пользователя \n",
    "    и возвращает ID нового последнего пользователя.\n",
    "    \"\"\"\n",
    "    print('Сразу после иницилизации функции default_list =', default_list) # Добавил строчки,  чтобы увидеть\n",
    "    print('id = ', id(default_list))         # происходящее с default_user\n",
    "    \n",
    "    element_to_delete = default_list[-1]\n",
    "    default_list.remove(element_to_delete)\n",
    "    \n",
    "    print('Перед выполнением default_list[DEFAULT_USER_COUNT-2] получаем default_list =', default_list) # и здесь\n",
    "    print('id = ', id(default_list)) # до кучи\n",
    "    \n",
    "    return default_list[DEFAULT_USER_COUNT-2]\n",
    "# При однократном вызове этой функции все работает корректно:\n",
    "\n",
    "# default_list=['A100', 'A101']\n",
    "delete_and_return_last_user(1)"
   ]
  },
  {
   "cell_type": "code",
   "execution_count": 3,
   "metadata": {},
   "outputs": [
    {
     "name": "stdout",
     "output_type": "stream",
     "text": [
      "Сразу после иницилизации функции default_list = ['A100', 'A101']\n",
      "id =  2282965107656\n",
      "Перед выполнением default_list[DEFAULT_USER_COUNT-2] получаем default_list = ['A100']\n",
      "id =  2282965107656\n"
     ]
    },
    {
     "ename": "IndexError",
     "evalue": "list index out of range",
     "output_type": "error",
     "traceback": [
      "\u001b[1;31m---------------------------------------------------------------------------\u001b[0m",
      "\u001b[1;31mIndexError\u001b[0m                                Traceback (most recent call last)",
      "\u001b[1;32m<ipython-input-3-e87e886dcc9d>\u001b[0m in \u001b[0;36m<module>\u001b[1;34m\u001b[0m\n\u001b[1;32m----> 1\u001b[1;33m \u001b[0mdelete_and_return_last_user\u001b[0m\u001b[1;33m(\u001b[0m\u001b[1;36m1\u001b[0m\u001b[1;33m)\u001b[0m \u001b[1;31m# После вышеуказанного текста выпонил ещё раз данную строчку\u001b[0m\u001b[1;33m\u001b[0m\u001b[1;33m\u001b[0m\u001b[0m\n\u001b[0m",
      "\u001b[1;32m<ipython-input-2-b3fac00b708b>\u001b[0m in \u001b[0;36mdelete_and_return_last_user\u001b[1;34m(region, default_list)\u001b[0m\n\u001b[0;32m     14\u001b[0m     \u001b[0mprint\u001b[0m\u001b[1;33m(\u001b[0m\u001b[1;34m'id = '\u001b[0m\u001b[1;33m,\u001b[0m \u001b[0mid\u001b[0m\u001b[1;33m(\u001b[0m\u001b[0mdefault_list\u001b[0m\u001b[1;33m)\u001b[0m\u001b[1;33m)\u001b[0m \u001b[1;31m# до кучи\u001b[0m\u001b[1;33m\u001b[0m\u001b[1;33m\u001b[0m\u001b[0m\n\u001b[0;32m     15\u001b[0m \u001b[1;33m\u001b[0m\u001b[0m\n\u001b[1;32m---> 16\u001b[1;33m     \u001b[1;32mreturn\u001b[0m \u001b[0mdefault_list\u001b[0m\u001b[1;33m[\u001b[0m\u001b[0mDEFAULT_USER_COUNT\u001b[0m\u001b[1;33m-\u001b[0m\u001b[1;36m2\u001b[0m\u001b[1;33m]\u001b[0m\u001b[1;33m\u001b[0m\u001b[1;33m\u001b[0m\u001b[0m\n\u001b[0m\u001b[0;32m     17\u001b[0m \u001b[1;31m# При однократном вызове этой функции все работает корректно:\u001b[0m\u001b[1;33m\u001b[0m\u001b[1;33m\u001b[0m\u001b[1;33m\u001b[0m\u001b[0m\n\u001b[0;32m     18\u001b[0m \u001b[1;33m\u001b[0m\u001b[0m\n",
      "\u001b[1;31mIndexError\u001b[0m: list index out of range"
     ]
    }
   ],
   "source": [
    "delete_and_return_last_user(1) # После вышеуказанного текста выпонил ещё раз данную строчку"
   ]
  },
  {
   "cell_type": "markdown",
   "metadata": {},
   "source": [
    "Ответы к Заданию 4 (бонусное)\n",
    "\n",
    "1. Что значит ошибка list index out of range?\n",
    "Ошибка IndexError: list index out of range означает попытку обратиться к несуществующему индексу (индекс вне диапазона)\n",
    "\n",
    "\n",
    "2. Почему при первом запуске функция работает корректно, а при втором - нет?\n",
    "\n",
    "Ошибка в том, что мы создаём список внутри определения функции. Важной особенностью в данном случае является то, что значения по-умолчанию вычисляются и ассоциируются только один раз – в момент объявления функции. Но id не меняется, название у переменной прежнее. Мы удалили из default_list элемент и при втором вызове, несмотря на объявления значения по умолчанию, мы имеем дело с укороченным списком (суть проблемы), уменьшив список default_list ещё на один элемент при выполнении функции мы пытаемся возвратить default_list[DEFAULT_USER_COUNT-2] === default_list[1], что и вызывает ошибку IndexError. По сути программа не работает корректно из факторов, следующих друг за другом, описанных выше."
   ]
  },
  {
   "cell_type": "code",
   "execution_count": null,
   "metadata": {},
   "outputs": [],
   "source": []
  }
 ],
 "metadata": {
  "kernelspec": {
   "display_name": "Python 3",
   "language": "python",
   "name": "python3"
  },
  "language_info": {
   "codemirror_mode": {
    "name": "ipython",
    "version": 3
   },
   "file_extension": ".py",
   "mimetype": "text/x-python",
   "name": "python",
   "nbconvert_exporter": "python",
   "pygments_lexer": "ipython3",
   "version": "3.7.4"
  }
 },
 "nbformat": 4,
 "nbformat_minor": 2
}
